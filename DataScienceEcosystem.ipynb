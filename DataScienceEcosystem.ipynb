{
 "cells": [
  {
   "cell_type": "code",
   "execution_count": null,
   "id": "06990da1-066d-40d9-bdb1-d769a25af552",
   "metadata": {},
   "outputs": [],
   "source": [
    "# Data Science Tools and Ecosystem"
   ]
  },
  {
   "cell_type": "code",
   "execution_count": null,
   "id": "806c7577-bd51-4224-aba0-e9084db9c1d7",
   "metadata": {},
   "outputs": [],
   "source": [
    "# Introduction\n",
    "\n",
    "In this notebook, Data Science Tools and Ecosystem are summarized.\n"
   ]
  },
  {
   "cell_type": "code",
   "execution_count": null,
   "id": "75f492a4-91ec-42da-82f4-664679657acd",
   "metadata": {},
   "outputs": [],
   "source": [
    " **Objectives**\n",
    "\n",
    "- List popular languages for Data Science\n",
    "- Summarize commonly used libraries in Data Science\n",
    "- Describe development environment tools for Data Science\n",
    "- Evaluate arithmetic expressions in Python\n",
    "- Convert minutes to hours in Python"
   ]
  },
  {
   "cell_type": "code",
   "execution_count": null,
   "id": "ac4ec570-20be-45de-b710-e03d2f50af87",
   "metadata": {},
   "outputs": [],
   "source": [
    "# Data Science Languages\n",
    "\n",
    "Some of the popular languages that Data Scientists use are:\n",
    "1. Python\n",
    "2. R \n",
    "3. SQL\n",
    "4. Java"
   ]
  },
  {
   "cell_type": "code",
   "execution_count": null,
   "id": "8f0abb16-c818-4470-9d6d-f3d5d30466ac",
   "metadata": {},
   "outputs": [],
   "source": [
    "# Data Science Libraries\n",
    "\n",
    "Some of the commonly used libraries used by Data Scientists include:\n",
    "1. Numpy\n",
    "2. Pandas\n",
    "3. Matplotlib\n",
    "4. Scikit-learn"
   ]
  },
  {
   "cell_type": "code",
   "execution_count": null,
   "id": "311786c0-93d2-458b-83c2-7bd93951bd99",
   "metadata": {},
   "outputs": [],
   "source": [
    "# Table\n",
    "\n",
    "| Data Science Tools |\n",
    "|--------------------|\n",
    "| Jupyter Notebook |\n",
    "| R Studio  |\n",
    "| Spyder   |"
   ]
  },
  {
   "cell_type": "code",
   "execution_count": null,
   "id": "f6dba96b-f1db-4699-8817-0ef7d1a67eba",
   "metadata": {},
   "outputs": [],
   "source": [
    "# Arithmetic Expressions\n",
    "\n",
    "### Below are a few examples of evaluating arithmetic expressions in Python.\n"
   ]
  },
  {
   "cell_type": "code",
   "execution_count": 17,
   "id": "3b8d9da6-c1a8-4e0c-8dc6-a76c4dcbf31e",
   "metadata": {},
   "outputs": [
    {
     "data": {
      "text/plain": [
       "17"
      ]
     },
     "execution_count": 17,
     "metadata": {},
     "output_type": "execute_result"
    }
   ],
   "source": [
    "# This a simple arithmetic expression to mutiply then add integers\n",
    "\n",
    "value = (3*4)+5\n",
    "\n",
    "value # This will return output"
   ]
  },
  {
   "cell_type": "code",
   "execution_count": 18,
   "id": "38a43c7c-4e4f-4528-b4a0-b867f16468ec",
   "metadata": {},
   "outputs": [
    {
     "data": {
      "text/plain": [
       "3.3333333333333335"
      ]
     },
     "execution_count": 18,
     "metadata": {},
     "output_type": "execute_result"
    }
   ],
   "source": [
    "# This will convert 200 minutes to hours by diving by 60\n",
    "\n",
    "minutes = 200\n",
    "\n",
    "hours = minutes / 60\n",
    "\n",
    "hours # This will return output"
   ]
  },
  {
   "cell_type": "code",
   "execution_count": null,
   "id": "555554f2-8aa0-47d8-b676-379393477e81",
   "metadata": {},
   "outputs": [],
   "source": [
    "## Author\n",
    "\n",
    "Tirumalesh Babu Ravutla"
   ]
  }
 ],
 "metadata": {
  "kernelspec": {
   "display_name": "Python 3 (ipykernel)",
   "language": "python",
   "name": "python3"
  },
  "language_info": {
   "codemirror_mode": {
    "name": "ipython",
    "version": 3
   },
   "file_extension": ".py",
   "mimetype": "text/x-python",
   "name": "python",
   "nbconvert_exporter": "python",
   "pygments_lexer": "ipython3",
   "version": "3.12.7"
  }
 },
 "nbformat": 4,
 "nbformat_minor": 5
}
