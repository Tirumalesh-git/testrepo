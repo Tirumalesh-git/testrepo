{
 "cells": [
  {
   "cell_type": "code",
   "execution_count": null,
   "id": "a3ffb13e-c8af-476c-8053-922646599f88",
   "metadata": {},
   "outputs": [],
   "source": [
    "# Data Science Tools and Ecosystem"
   ]
  },
  {
   "cell_type": "code",
   "execution_count": null,
   "id": "082bb8c7-8aa9-421e-a7cb-810ef407c929",
   "metadata": {},
   "outputs": [],
   "source": [
    "# Introduction\n",
    "\n",
    "In this notebook, Data Science Tools and Ecosystem are summarized.\n",
    "\n",
    " **Objectives**\n",
    "\n",
    "- List popular languages for Data Science\n",
    "- Summarize commonly used libraries in Data Science\n",
    "- Describe development environment tools for Data Science\n",
    "- Evaluate arithmetic expressions in Python\n",
    "- Convert minutes to hours in Python\n"
   ]
  },
  {
   "cell_type": "code",
   "execution_count": null,
   "id": "ac4ec570-20be-45de-b710-e03d2f50af87",
   "metadata": {},
   "outputs": [],
   "source": [
    "# Data Science Languages\n",
    "\n",
    "Some of the popular languages that Data Scientists use are:\n",
    "1. Python\n",
    "2. R \n",
    "3. SQL\n",
    "4. Java"
   ]
  },
  {
   "cell_type": "code",
   "execution_count": null,
   "id": "8f0abb16-c818-4470-9d6d-f3d5d30466ac",
   "metadata": {},
   "outputs": [],
   "source": [
    "# Data Science Libraries\n",
    "\n",
    "Some of the commonly used libraries used by Data Scientists include:\n",
    "1. Numpy\n",
    "2. Pandas\n",
    "3. Matplotlib\n",
    "4. Scikit-learn"
   ]
  },
  {
   "cell_type": "code",
   "execution_count": null,
   "id": "311786c0-93d2-458b-83c2-7bd93951bd99",
   "metadata": {},
   "outputs": [],
   "source": [
    "# Table\n",
    "\n",
    "| Data Science Tools |\n",
    "|--------------------|\n",
    "| Jupyter Notebook |\n",
    "| R Studio  |\n",
    "| Spyder   |"
   ]
  },
  {
   "cell_type": "code",
   "execution_count": 13,
   "id": "615b2577-f6cb-4c78-9a1c-142736d98cb5",
   "metadata": {},
   "outputs": [
    {
     "data": {
      "text/plain": [
       "3.3333333333333335"
      ]
     },
     "execution_count": 13,
     "metadata": {},
     "output_type": "execute_result"
    }
   ],
   "source": [
    "# Arithmetic Expressions\n",
    "\n",
    "### Below are a few examples of evaluating arithmetic expressions in Python.\n",
    "\n",
    "# This a simple arithmetic expression to mutiply then add integers\n",
    "\n",
    "value = (3*4)+5\n",
    "\n",
    "value # This will return output\n",
    "\n",
    "# This will convert 200 minutes to hours by diving by 60\n",
    "\n",
    "minutes = 200\n",
    "\n",
    "hours = minutes / 60\n",
    "\n",
    "hours "
   ]
  },
  {
   "cell_type": "markdown",
   "id": "c25a5f30-cd3f-4ec7-8fb8-cb5d32f22a31",
   "metadata": {},
   "source": [
    "## Author\n",
    "\n",
    "Tirumalesh Babu Ravutla"
   ]
  }
 ],
 "metadata": {
  "kernelspec": {
   "display_name": "Python 3 (ipykernel)",
   "language": "python",
   "name": "python3"
  },
  "language_info": {
   "codemirror_mode": {
    "name": "ipython",
    "version": 3
   },
   "file_extension": ".py",
   "mimetype": "text/x-python",
   "name": "python",
   "nbconvert_exporter": "python",
   "pygments_lexer": "ipython3",
   "version": "3.12.7"
  }
 },
 "nbformat": 4,
 "nbformat_minor": 5
}
